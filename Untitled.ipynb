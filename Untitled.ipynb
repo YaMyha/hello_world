{
 "cells": [
  {
   "cell_type": "code",
   "execution_count": null,
   "id": "3608b165",
   "metadata": {},
   "outputs": [],
   "source": [
    "from IPython.core.interactiveshell import InteractiveShell\n",
    "\n",
    "InteractiveShell.ast_node_interactivity = \"all\""
   ]
  },
  {
   "cell_type": "code",
   "execution_count": 5,
   "id": "a56aed13",
   "metadata": {},
   "outputs": [
    {
     "name": "stdout",
     "output_type": "stream",
     "text": [
      "Введите целое число.\n",
      "3\n",
      "10\n",
      "5\n",
      "16\n",
      "8\n",
      "4\n",
      "2\n",
      "1\n"
     ]
    }
   ],
   "source": [
    "def collatz(number):\n",
    "    if number % 2 == 0:\n",
    "        return number // 2\n",
    "    else:\n",
    "        return(3 * number + 1)\n",
    "value =  0\n",
    "print('Введите целое число.')\n",
    "try:\n",
    "    value = int(input())\n",
    "except:\n",
    "    print('Введите целое число.')\n",
    "while value != 1:\n",
    "    value = collatz(value)\n",
    "    print(value)"
   ]
  },
  {
   "cell_type": "code",
   "execution_count": 11,
   "id": "a3ca476e",
   "metadata": {},
   "outputs": [
    {
     "name": "stdout",
     "output_type": "stream",
     "text": [
      "a, b and c\n"
     ]
    }
   ],
   "source": [
    "def spam(list):\n",
    "    temp = list[0]\n",
    "    for i in range(1, len(list) - 1):\n",
    "        temp += ', ' + list[i]\n",
    "    return(temp + ' and ' + list[len(list) - 1])\n",
    "print(spam(['a', 'b', 'c']))"
   ]
  },
  {
   "cell_type": "code",
   "execution_count": 14,
   "id": "8716ad5f",
   "metadata": {},
   "outputs": [
    {
     "name": "stdout",
     "output_type": "stream",
     "text": [
      "a, b and c\n"
     ]
    }
   ],
   "source": [
    "def spam(list):\n",
    "    temp = ', '.join(list[:len(list) - 1])\n",
    "    return(temp + ' and ' + list[len(list) - 1])\n",
    "print(spam(['a', 'b', 'c']))"
   ]
  },
  {
   "cell_type": "code",
   "execution_count": 20,
   "id": "6b0bc97f",
   "metadata": {},
   "outputs": [
    {
     "name": "stdout",
     "output_type": "stream",
     "text": [
      "..00.00..\n",
      ".0000000.\n",
      ".0000000.\n",
      "..00000..\n",
      "...000...\n",
      "....0....\n"
     ]
    }
   ],
   "source": [
    "grid = [['.','.','.','.','.','.'],\n",
    "        ['.','0','0','.','.','.'],\n",
    "        ['0','0','0','0','.','.'],\n",
    "        ['0','0','0','0','0','.'],\n",
    "        ['.','0','0','0','0','0'],\n",
    "        ['0','0','0','0','0','.'],\n",
    "        ['0','0','0','0','.','.'],\n",
    "        ['.','0','0','.','.','.'],\n",
    "        ['.','.','.','.','.','.']]\n",
    "for j in range(len(grid[0])):\n",
    "    for i in range(len(grid)):\n",
    "        print(grid[i][j], end = '')\n",
    "    print()\n",
    "    "
   ]
  },
  {
   "cell_type": "code",
   "execution_count": 27,
   "id": "7abf6d99",
   "metadata": {},
   "outputs": [
    {
     "data": {
      "text/plain": [
       "['red', 'heart', 'blue', 'sky']"
      ]
     },
     "execution_count": 27,
     "metadata": {},
     "output_type": "execute_result"
    }
   ],
   "source": [
    "keyvalue = {'red':'heart', 'blue':'sky'}\n",
    "[x for l in [list(el) for el in keyvalue.items()] for x in l]"
   ]
  },
  {
   "cell_type": "code",
   "execution_count": 44,
   "id": "d29c761d",
   "metadata": {},
   "outputs": [
    {
     "name": "stdout",
     "output_type": "stream",
     "text": [
      "{12: ['red', 'green'], 'ab': 'cd'}\n"
     ]
    }
   ],
   "source": [
    "import pprint\n",
    "dic = {12:['red', 'green'],'ab':'cd'}\n",
    "#dic = {'b':'b', 'a':'d'}\n",
    "pprint.pprint(dic)"
   ]
  },
  {
   "cell_type": "code",
   "execution_count": 2,
   "id": "b8a59c12",
   "metadata": {},
   "outputs": [
    {
     "name": "stdout",
     "output_type": "stream",
     "text": [
      "Inventory:\n",
      "45 gold_coin\n",
      "1 rope\n",
      "1 dagger\n",
      "1 ruby\n",
      "Total number of items: 48\n"
     ]
    }
   ],
   "source": [
    "def addToInventory(inventory, addedItems):\n",
    "    for el in addedItems:\n",
    "        inventory[el] = inventory.setdefault(el, 0) + 1\n",
    "def displayInventory(inventory):\n",
    "    print('Inventory:')\n",
    "    item_total = 0\n",
    "    for k, v in inventory.items():\n",
    "        print(str(v) + ' ' + k)\n",
    "        item_total += v\n",
    "    print('Total number of items: ' + str(item_total))\n",
    "inv = {'gold_coin': 42, 'rope': 1}\n",
    "loot = ['gold_coin', 'gold_coin', 'gold_coin', 'dagger', 'ruby']\n",
    "addToInventory(inv, loot)\n",
    "displayInventory(inv)"
   ]
  }
 ],
 "metadata": {
  "kernelspec": {
   "display_name": "Python 3 (ipykernel)",
   "language": "python",
   "name": "python3"
  },
  "language_info": {
   "codemirror_mode": {
    "name": "ipython",
    "version": 3
   },
   "file_extension": ".py",
   "mimetype": "text/x-python",
   "name": "python",
   "nbconvert_exporter": "python",
   "pygments_lexer": "ipython3",
   "version": "3.9.13"
  }
 },
 "nbformat": 4,
 "nbformat_minor": 5
}
